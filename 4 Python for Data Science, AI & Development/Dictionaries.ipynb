{
 "cells": [
  {
   "cell_type": "markdown",
   "id": "05ed30e3-61e4-420a-b4b5-8c2d34c2bc64",
   "metadata": {},
   "source": [
    "<center>\n",
    "    <img src=\"https://cf-courses-data.s3.us.cloud-object-storage.appdomain.cloud/IBMDeveloperSkillsNetwork-PY0101EN-SkillsNetwork/IDSNlogo.png\" width=\"300\" alt=\"cognitiveclass.ai logo\">\n",
    "</center>\n",
    "\n",
    "# Dictionaries in Python\n",
    "\n",
    "Estimated time needed: **30** minutes\n",
    "\n",
    "## Objectives\n",
    "\n",
    "After completing this lab you will be able to:\n",
    "\n",
    "*  Create a Dictionary and perform operations on the Dictionary\n"
   ]
  },
  {
   "cell_type": "markdown",
   "id": "7ca3404f-8d7b-4350-adc3-17cd9b6cd077",
   "metadata": {},
   "source": [
    "<h2>Table of Contents</h2>\n",
    "<div class=\"alert alert-block alert-info\" style=\"margin-top: 20px\">\n",
    "    <ul>\n",
    "        <li>\n",
    "            <a href=\"#dic\">Dictionaries</a>\n",
    "            <ul>\n",
    "                <li><a href=\"#content\">What are Dictionaries?</a></li>\n",
    "                <li><a href=\"#keys\">Keys</a></li>\n",
    "            </ul>\n",
    "        </li>\n",
    "        <li>\n",
    "            <a href=\"#quiz\">Quiz on Dictionaries</a>\n",
    "        </li>\n",
    "        <li> \n",
    "            <a href=\"#Scenario\">Scenario</a>\n",
    "        </li>\n",
    "    </ul>\n",
    "\n",
    "</div>\n",
    "\n",
    "<hr>\n"
   ]
  },
  {
   "cell_type": "markdown",
   "id": "4ef0b67d-a19a-4def-b4ae-0c0beff60965",
   "metadata": {},
   "source": [
    "<a id=\"dic\"></a>\n",
    "## Dictionaries\n"
   ]
  },
  {
   "cell_type": "markdown",
   "id": "6922c7dc-7dd9-4855-8453-0963bdb7e3b1",
   "metadata": {},
   "source": [
    "<a id=\"content\"></a>\n",
    "## What are Dictionaries?\n"
   ]
  },
  {
   "cell_type": "markdown",
   "id": "f3b47d5b-78c4-4af3-85ca-29261eedfa87",
   "metadata": {},
   "source": [
    "A dictionary consists of keys and values. It is helpful to compare a dictionary to a list. Instead of being indexed numerically like a list, dictionaries have keys. These keys are the keys that are used to access values within a dictionary.   \n",
    "\n",
    "\n",
    "The best example of a dictionary can be accessing person's detais using the **social security number**.   \n",
    "Here the social security number which is a unique number will be the **key** and the details of the people will be the **values** associated with it.\n"
   ]
  },
  {
   "cell_type": "markdown",
   "id": "c060c63d-84f4-404c-b7e6-ca1a1c3e8936",
   "metadata": {},
   "source": [
    "<img src=\"https://cf-courses-data.s3.us.cloud-object-storage.appdomain.cloud/54cVKVMZaWEw7wSCDL8NjQ/DictList1.png\" width=\"650\">\n"
   ]
  },
  {
   "cell_type": "markdown",
   "id": "aed30f00-c773-48da-a5ef-d2546f14aa4e",
   "metadata": {},
   "source": [
    "### Create a Dictionary and access the elements\n"
   ]
  },
  {
   "cell_type": "markdown",
   "id": "466e7f48-adec-45fc-a410-7561a10107dc",
   "metadata": {},
   "source": [
    "An example of a Dictionary <code>Dict</code>:\n",
    "Here we are creating a dictionary named **Dict** with he following details\n",
    "\n",
    "* Keys are **key1, key2, key3, key4, key5, (0,1)**.\n",
    "* Values are {1,2,[3,3,3],(4,4,4),5,6} corresponding to the keys\n"
   ]
  },
  {
   "cell_type": "code",
   "execution_count": 3,
   "id": "0d044684-e259-4e36-a049-97599a273e7f",
   "metadata": {},
   "outputs": [
    {
     "data": {
      "text/plain": [
       "{'key1': 1,\n",
       " 'key2': '2',\n",
       " 'key3': [3, 3, 3],\n",
       " 'key4': (4, 4, 4),\n",
       " 'key5': 5,\n",
       " (0, 1): 6}"
      ]
     },
     "execution_count": 3,
     "metadata": {},
     "output_type": "execute_result"
    }
   ],
   "source": [
    "# Create the dictionary\n",
    "\n",
    "Dict = {\"key1\": 1, \"key2\": \"2\", \"key3\": [3, 3, 3], \"key4\": (4, 4, 4), ('key5'): 5, (0, 1): 6}\n",
    "Dict"
   ]
  },
  {
   "cell_type": "markdown",
   "id": "7525d839-6285-4660-a879-53ae1bb70d66",
   "metadata": {},
   "source": [
    "The keys can be strings:\n"
   ]
  },
  {
   "cell_type": "code",
   "execution_count": 4,
   "id": "4621efde-4871-4785-bd91-1d1616106e18",
   "metadata": {},
   "outputs": [
    {
     "data": {
      "text/plain": [
       "1"
      ]
     },
     "execution_count": 4,
     "metadata": {},
     "output_type": "execute_result"
    }
   ],
   "source": [
    "# Access to the value by the key\n",
    "\n",
    "Dict[\"key1\"]"
   ]
  },
  {
   "cell_type": "markdown",
   "id": "7a296b4f-1f49-4dd6-ab28-f0497d524526",
   "metadata": {},
   "source": [
    "Keys can also be any immutable object such as a tuple:\n"
   ]
  },
  {
   "cell_type": "code",
   "execution_count": 5,
   "id": "4e224b4a-3707-4f08-b6f5-e1f3fce0ae5b",
   "metadata": {},
   "outputs": [
    {
     "data": {
      "text/plain": [
       "6"
      ]
     },
     "execution_count": 5,
     "metadata": {},
     "output_type": "execute_result"
    }
   ],
   "source": [
    "# Access to the value by the key\n",
    "\n",
    "Dict[(0, 1)]"
   ]
  },
  {
   "cell_type": "markdown",
   "id": "d81bd32e-58c4-4695-9936-08e5ef55ce17",
   "metadata": {},
   "source": [
    "Each key is separated from its value by a colon \"<code>:</code>\".  Commas separate the items, and the whole dictionary is enclosed in curly braces. An empty dictionary without any items is written with just two curly braces, like this  \"<code>{}</code>\".\n"
   ]
  },
  {
   "cell_type": "code",
   "execution_count": 6,
   "id": "e2ff3d81-ad21-49c2-862d-e1b6f058bd54",
   "metadata": {},
   "outputs": [
    {
     "data": {
      "text/plain": [
       "{'Thriller': '1982',\n",
       " 'Back in Black': '1980',\n",
       " 'The Dark Side of the Moon': '1973',\n",
       " 'The Bodyguard': '1992',\n",
       " 'Bat Out of Hell': '1977',\n",
       " 'Their Greatest Hits (1971-1975)': '1976',\n",
       " 'Saturday Night Fever': '1977',\n",
       " 'Rumours': '1977'}"
      ]
     },
     "execution_count": 6,
     "metadata": {},
     "output_type": "execute_result"
    }
   ],
   "source": [
    "# Create a sample dictionary\n",
    "\n",
    "release_year_dict = {\"Thriller\": \"1982\", \"Back in Black\": \"1980\", \\\n",
    "                    \"The Dark Side of the Moon\": \"1973\", \"The Bodyguard\": \"1992\", \\\n",
    "                    \"Bat Out of Hell\": \"1977\", \"Their Greatest Hits (1971-1975)\": \"1976\", \\\n",
    "                    \"Saturday Night Fever\": \"1977\", \"Rumours\": \"1977\"}\n",
    "release_year_dict"
   ]
  },
  {
   "cell_type": "markdown",
   "id": "7d579141-128b-41e0-a46d-a861a0aa0724",
   "metadata": {},
   "source": [
    "In summary, like a list, a dictionary holds a sequence of elements. Each element is represented by a key and its corresponding value. Dictionaries are created with two curly braces containing keys and values separated by a colon. For every key, there can only be one single value, however,  multiple keys can hold the same value. Keys can only be strings, numbers, or tuples, but values can be any data type.\n"
   ]
  },
  {
   "cell_type": "markdown",
   "id": "f2d405c0-1c20-42f1-9a2a-9db82ebc7d7b",
   "metadata": {},
   "source": [
    "It is helpful to visualize the dictionary as a table, as in the following image. The first column represents the keys, the second column represents the values.\n"
   ]
  },
  {
   "cell_type": "markdown",
   "id": "392c847f-d240-430a-92dd-ab850ff663b5",
   "metadata": {},
   "source": [
    "<img src=\"https://cf-courses-data.s3.us.cloud-object-storage.appdomain.cloud/IBMDeveloperSkillsNetwork-PY0101EN-SkillsNetwork/labs/Module%202/images/DictsStructure.png\" width=\"650\">\n"
   ]
  },
  {
   "cell_type": "markdown",
   "id": "9290e929-e3a1-4805-8765-8c7fb6527203",
   "metadata": {},
   "source": [
    "<a id=\"keys\"></a>\n",
    "## Keys\n"
   ]
  },
  {
   "cell_type": "markdown",
   "id": "31aa9d75-9055-4089-9508-3e8306a8762a",
   "metadata": {},
   "source": [
    "You can retrieve the values based on the names:\n"
   ]
  },
  {
   "cell_type": "code",
   "execution_count": 7,
   "id": "4b8da4f1-4052-4ff8-970b-efe8c7e7e4d2",
   "metadata": {},
   "outputs": [
    {
     "data": {
      "text/plain": [
       "'1982'"
      ]
     },
     "execution_count": 7,
     "metadata": {},
     "output_type": "execute_result"
    }
   ],
   "source": [
    "# Get value by keys\n",
    "\n",
    "release_year_dict['Thriller'] "
   ]
  },
  {
   "cell_type": "markdown",
   "id": "6e6a4e3b-b115-41d4-b22e-4c608ece6baf",
   "metadata": {},
   "source": [
    "This corresponds to:\n"
   ]
  },
  {
   "cell_type": "markdown",
   "id": "382fbd36-dd76-469e-a676-dd38ab7221e4",
   "metadata": {},
   "source": [
    "<img src=\"https://cf-courses-data.s3.us.cloud-object-storage.appdomain.cloud/IBMDeveloperSkillsNetwork-PY0101EN-SkillsNetwork/labs/Module%202/images/DictsKeyOne.png\" width=\"500\">\n"
   ]
  },
  {
   "cell_type": "markdown",
   "id": "9388a329-19ae-43f7-af15-094aeabab16c",
   "metadata": {},
   "source": [
    "Similarly for <b>The Bodyguard</b>\n"
   ]
  },
  {
   "cell_type": "code",
   "execution_count": 8,
   "id": "94205dc6-167a-4c28-8d58-f694b24ae03a",
   "metadata": {},
   "outputs": [
    {
     "data": {
      "text/plain": [
       "'1992'"
      ]
     },
     "execution_count": 8,
     "metadata": {},
     "output_type": "execute_result"
    }
   ],
   "source": [
    "# Get value by key\n",
    "\n",
    "release_year_dict['The Bodyguard'] "
   ]
  },
  {
   "cell_type": "markdown",
   "id": "165affca-4210-4726-be20-9d312797b121",
   "metadata": {},
   "source": [
    "<img src=\"https://cf-courses-data.s3.us.cloud-object-storage.appdomain.cloud/IBMDeveloperSkillsNetwork-PY0101EN-SkillsNetwork/labs/Module%202/images/DictsKeyTwo.png\" width=\"500\">\n"
   ]
  },
  {
   "cell_type": "markdown",
   "id": "a3731a3e-1185-4b32-89fb-63cc344025d1",
   "metadata": {},
   "source": [
    "Now let us retrieve the keys of the dictionary using the method <code>keys()</code>:\n"
   ]
  },
  {
   "cell_type": "code",
   "execution_count": 9,
   "id": "4826d3ed-7978-4fa3-a268-8b45263d1a5e",
   "metadata": {},
   "outputs": [
    {
     "data": {
      "text/plain": [
       "dict_keys(['Thriller', 'Back in Black', 'The Dark Side of the Moon', 'The Bodyguard', 'Bat Out of Hell', 'Their Greatest Hits (1971-1975)', 'Saturday Night Fever', 'Rumours'])"
      ]
     },
     "execution_count": 9,
     "metadata": {},
     "output_type": "execute_result"
    }
   ],
   "source": [
    "# Get all the keys in dictionary\n",
    "\n",
    "release_year_dict.keys() "
   ]
  },
  {
   "cell_type": "markdown",
   "id": "492969f7-408e-4098-adc8-dcb8bd1cb5dd",
   "metadata": {},
   "source": [
    "You can retrieve the values using the method  <code>values()</code>:\n"
   ]
  },
  {
   "cell_type": "code",
   "execution_count": 10,
   "id": "fb00a04a-2d8c-43c9-beed-f9e05257fe95",
   "metadata": {},
   "outputs": [
    {
     "data": {
      "text/plain": [
       "dict_values(['1982', '1980', '1973', '1992', '1977', '1976', '1977', '1977'])"
      ]
     },
     "execution_count": 10,
     "metadata": {},
     "output_type": "execute_result"
    }
   ],
   "source": [
    "# Get all the values in dictionary\n",
    "\n",
    "release_year_dict.values() "
   ]
  },
  {
   "cell_type": "markdown",
   "id": "6da776b7-c166-4324-ba6e-f51b08c6d257",
   "metadata": {},
   "source": [
    "We can add an entry:\n"
   ]
  },
  {
   "cell_type": "code",
   "execution_count": 11,
   "id": "290491c1-a446-4d6f-a2fd-d1b2d0e82a84",
   "metadata": {},
   "outputs": [
    {
     "data": {
      "text/plain": [
       "{'Thriller': '1982',\n",
       " 'Back in Black': '1980',\n",
       " 'The Dark Side of the Moon': '1973',\n",
       " 'The Bodyguard': '1992',\n",
       " 'Bat Out of Hell': '1977',\n",
       " 'Their Greatest Hits (1971-1975)': '1976',\n",
       " 'Saturday Night Fever': '1977',\n",
       " 'Rumours': '1977',\n",
       " 'Graduation': '2007'}"
      ]
     },
     "execution_count": 11,
     "metadata": {},
     "output_type": "execute_result"
    }
   ],
   "source": [
    "# Append value with key into dictionary\n",
    "\n",
    "release_year_dict['Graduation'] = '2007'\n",
    "release_year_dict"
   ]
  },
  {
   "cell_type": "markdown",
   "id": "5b670fe7-1326-4e42-a6cb-7e039a1131c3",
   "metadata": {},
   "source": [
    "We can delete an entry:\n"
   ]
  },
  {
   "cell_type": "code",
   "execution_count": 12,
   "id": "364eb1da-2950-4a68-8143-82bdc0904bbe",
   "metadata": {},
   "outputs": [
    {
     "data": {
      "text/plain": [
       "{'Back in Black': '1980',\n",
       " 'The Dark Side of the Moon': '1973',\n",
       " 'The Bodyguard': '1992',\n",
       " 'Bat Out of Hell': '1977',\n",
       " 'Their Greatest Hits (1971-1975)': '1976',\n",
       " 'Saturday Night Fever': '1977',\n",
       " 'Rumours': '1977'}"
      ]
     },
     "execution_count": 12,
     "metadata": {},
     "output_type": "execute_result"
    }
   ],
   "source": [
    "# Delete entries by key\n",
    "\n",
    "del(release_year_dict['Thriller'])\n",
    "del(release_year_dict['Graduation'])\n",
    "release_year_dict"
   ]
  },
  {
   "cell_type": "markdown",
   "id": "71841f71-8f00-411c-b9dc-51429f4c1a7f",
   "metadata": {},
   "source": [
    "We can verify if an element is in the dictionary:\n"
   ]
  },
  {
   "cell_type": "code",
   "execution_count": 13,
   "id": "fe064eb3-4830-4e7f-aebd-fe1abb11798d",
   "metadata": {},
   "outputs": [
    {
     "data": {
      "text/plain": [
       "True"
      ]
     },
     "execution_count": 13,
     "metadata": {},
     "output_type": "execute_result"
    }
   ],
   "source": [
    "# Verify the key is in the dictionary\n",
    "\n",
    "'The Bodyguard' in release_year_dict"
   ]
  },
  {
   "cell_type": "markdown",
   "id": "cb08c755-bddd-4482-a085-d6ab4bc15d9d",
   "metadata": {},
   "source": [
    "<hr>\n"
   ]
  },
  {
   "cell_type": "markdown",
   "id": "01bf4e75-549d-4949-b090-a66d1cdcc759",
   "metadata": {},
   "source": [
    "<a id=\"quiz\"></a>\n",
    "## Quiz on Dictionaries\n"
   ]
  },
  {
   "cell_type": "markdown",
   "id": "7102539c-cfb0-4206-9a5e-0109d3fd4786",
   "metadata": {},
   "source": [
    "<b>You will need this dictionary for the next two questions:</b>\n"
   ]
  },
  {
   "cell_type": "code",
   "execution_count": 14,
   "id": "9eea76ed-86c5-4d23-978d-555b46ec5e21",
   "metadata": {},
   "outputs": [
    {
     "data": {
      "text/plain": [
       "{'The Bodyguard': '1992', 'Saturday Night Fever': '1977'}"
      ]
     },
     "execution_count": 14,
     "metadata": {},
     "output_type": "execute_result"
    }
   ],
   "source": [
    "# Question sample dictionary\n",
    "\n",
    "soundtrack_dic = {\"The Bodyguard\":\"1992\", \"Saturday Night Fever\":\"1977\"}\n",
    "soundtrack_dic "
   ]
  },
  {
   "cell_type": "markdown",
   "id": "b679ed7d-9035-432d-8f5c-41fe22706abe",
   "metadata": {},
   "source": [
    "a) In the dictionary <code>soundtrack_dic</code> what are the keys ?\n"
   ]
  },
  {
   "cell_type": "code",
   "execution_count": null,
   "id": "668d840d-e577-45c4-a4a3-5cd2eb443e3f",
   "metadata": {},
   "outputs": [
    {
     "data": {
      "text/plain": [
       "dict_keys(['The Bodyguard', 'Saturday Night Fever'])"
      ]
     },
     "execution_count": 15,
     "metadata": {},
     "output_type": "execute_result"
    }
   ],
   "source": [
    "# Write your code below and press Shift+Enter to execute\n",
    "soundtrack_dic.keys()"
   ]
  },
  {
   "cell_type": "markdown",
   "id": "a3d386b2-54fa-4522-b2df-ffb922ddffa4",
   "metadata": {},
   "source": [
    "<details><summary>Click here for the solution</summary>\n",
    "\n",
    "```python\n",
    "soundtrack_dic.keys() # The Keys \"The Bodyguard\" and \"Saturday Night Fever\" \n",
    "\n",
    "```\n",
    "\n",
    "</details>\n"
   ]
  },
  {
   "cell_type": "markdown",
   "id": "96d4dfc6-6690-42a4-88a7-574a0f2fa675",
   "metadata": {},
   "source": [
    "b) In the dictionary <code>soundtrack_dic</code> what are the values ?\n"
   ]
  },
  {
   "cell_type": "code",
   "execution_count": 16,
   "id": "3dc0e545-7306-440c-9df5-0d3c31bb4e4d",
   "metadata": {},
   "outputs": [
    {
     "data": {
      "text/plain": [
       "dict_values(['1992', '1977'])"
      ]
     },
     "execution_count": 16,
     "metadata": {},
     "output_type": "execute_result"
    }
   ],
   "source": [
    "# Write your code below and press Shift+Enter to execute\n",
    "soundtrack_dic.values()"
   ]
  },
  {
   "cell_type": "markdown",
   "id": "0cc56f86-3061-4a16-b0a0-ae574386a622",
   "metadata": {},
   "source": [
    "<details><summary>Click here for the solution</summary>\n",
    "\n",
    "```python\n",
    "soundtrack_dic.values() # The values are \"1992\" and \"1977\"\n",
    "\n",
    "```\n",
    "\n",
    "</details>\n"
   ]
  },
  {
   "cell_type": "markdown",
   "id": "4f6f073a-58de-42b6-b207-f9f4e2415646",
   "metadata": {},
   "source": [
    "<hr>\n"
   ]
  },
  {
   "cell_type": "markdown",
   "id": "b38d1be6-e7c1-4a6b-945b-e93e2e7407de",
   "metadata": {},
   "source": [
    "<b>You will need this dictionary for the following questions:</b>\n"
   ]
  },
  {
   "cell_type": "markdown",
   "id": "bd76bd60-88e2-4173-a03e-0e9bcf9d17c4",
   "metadata": {},
   "source": [
    "The Albums <b>Back in Black</b>, <b>The Bodyguard</b> and <b>Thriller</b> have the following music recording sales in millions 50, 50 and 65 respectively:\n"
   ]
  },
  {
   "cell_type": "markdown",
   "id": "53652eeb-3daf-47a9-97a4-0bf0a386be27",
   "metadata": {},
   "source": [
    "a) Create a dictionary <code>album_sales_dict</code> where the keys are the album name and the sales in millions are the values.\n"
   ]
  },
  {
   "cell_type": "code",
   "execution_count": 19,
   "id": "2e899d66-23d3-4332-80c1-d6d3753857ee",
   "metadata": {},
   "outputs": [
    {
     "data": {
      "text/plain": [
       "{'Back in Black': 50, 'The Bodyguard': 50, 'Thriller': 65}"
      ]
     },
     "execution_count": 19,
     "metadata": {},
     "output_type": "execute_result"
    }
   ],
   "source": [
    "# Write your code below and press Shift+Enter to execute\n",
    "album_sales_dict={\"Back in Black\":50, \"The Bodyguard\":50, \"Thriller\":65}\n",
    "album_sales_dict\n"
   ]
  },
  {
   "cell_type": "markdown",
   "id": "ec0e894b-91b9-4d85-bdda-c4a88f1cd1ac",
   "metadata": {},
   "source": [
    "<details><summary>Click here for the solution</summary>\n",
    "\n",
    "```python\n",
    "album_sales_dict = {\"The Bodyguard\":50, \"Back in Black\":50, \"Thriller\":65}\n",
    "\n",
    "```\n",
    "\n",
    "</details>\n"
   ]
  },
  {
   "cell_type": "markdown",
   "id": "6167087b-6fea-4314-8b42-1f49e3e2e002",
   "metadata": {},
   "source": [
    "b) Use the dictionary to find the total sales of <b>Thriller</b>:\n"
   ]
  },
  {
   "cell_type": "code",
   "execution_count": 21,
   "id": "da144604-327e-437a-9866-40dcc270ef28",
   "metadata": {},
   "outputs": [
    {
     "data": {
      "text/plain": [
       "65"
      ]
     },
     "execution_count": 21,
     "metadata": {},
     "output_type": "execute_result"
    }
   ],
   "source": [
    "# Write your code below and press Shift+Enter to execute\n",
    "album_sales_dict[\"Thriller\"]"
   ]
  },
  {
   "cell_type": "markdown",
   "id": "08749fe0-61ee-45a0-9023-26ee36052b94",
   "metadata": {},
   "source": [
    "<details><summary>Click here for the solution</summary>\n",
    "\n",
    "```python\n",
    "album_sales_dict[\"Thriller\"]\n",
    "\n",
    "```\n",
    "\n",
    "</details>\n"
   ]
  },
  {
   "cell_type": "markdown",
   "id": "7c4bfc46-9c4e-4a22-b6e3-0a47fbe7f2f5",
   "metadata": {},
   "source": [
    "c) Find the names of the albums from the dictionary using the method <code>keys()</code>:\n"
   ]
  },
  {
   "cell_type": "code",
   "execution_count": 22,
   "id": "4a456b9e-e1bb-4422-ade5-049f41315bf4",
   "metadata": {},
   "outputs": [
    {
     "data": {
      "text/plain": [
       "dict_keys(['Back in Black', 'The Bodyguard', 'Thriller'])"
      ]
     },
     "execution_count": 22,
     "metadata": {},
     "output_type": "execute_result"
    }
   ],
   "source": [
    "# Write your code below and press Shift+Enter to execute\n",
    "album_sales_dict.keys()"
   ]
  },
  {
   "cell_type": "markdown",
   "id": "6bf2ab03-3738-4e9d-8412-b1d5e024ea06",
   "metadata": {},
   "source": [
    "<details><summary>Click here for the solution</summary>\n",
    "\n",
    "```python\n",
    "album_sales_dict.keys()\n",
    "\n",
    "```\n",
    "\n",
    "</details>\n"
   ]
  },
  {
   "cell_type": "markdown",
   "id": "1aa207e9-2829-4251-aa79-6f266bdc0444",
   "metadata": {},
   "source": [
    "d) Find the values of the recording sales from the dictionary using the method <code>values</code>:\n"
   ]
  },
  {
   "cell_type": "code",
   "execution_count": 23,
   "id": "bdca8165-214c-4428-8b87-f5361614891b",
   "metadata": {},
   "outputs": [
    {
     "data": {
      "text/plain": [
       "dict_values([50, 50, 65])"
      ]
     },
     "execution_count": 23,
     "metadata": {},
     "output_type": "execute_result"
    }
   ],
   "source": [
    "# Write your code below and press Shift+Enter to execute\n",
    "album_sales_dict.values()"
   ]
  },
  {
   "cell_type": "markdown",
   "id": "7de1bd29-81ed-4bc9-86e6-eee00256e574",
   "metadata": {},
   "source": [
    "<details><summary>Click here for the solution</summary>\n",
    "\n",
    "```python\n",
    "album_sales_dict.values()\n",
    "\n",
    "```\n",
    "\n",
    "</details>\n"
   ]
  },
  {
   "cell_type": "markdown",
   "id": "280eda19-a79f-4a51-8656-a83e0eec687c",
   "metadata": {},
   "source": [
    "<a id=\"Scenario\"></a>\n",
    "## Scenario:Inventory Store\n",
    "    \n"
   ]
  },
  {
   "cell_type": "markdown",
   "id": "9ed25fee-1716-4de4-90ba-425723b6341f",
   "metadata": {},
   "source": [
    "The inventory store scenario project utilizes a dictionary-based approach to develop a robust system for managing and tracking inventory in a retail store.\n",
    "<br>\n",
    "**Note:- You will be working with two product details.**\n"
   ]
  },
  {
   "cell_type": "markdown",
   "id": "c397dfef-241a-4530-9d1d-a1b40174625d",
   "metadata": {},
   "source": [
    "## Task-1 Create an empty dictionary \n"
   ]
  },
  {
   "cell_type": "markdown",
   "id": "fd762f79-7751-4325-adc5-c2a529985709",
   "metadata": {},
   "source": [
    "\n",
    "First you need to create an empty dictionary, where you will be storing the product details.\n"
   ]
  },
  {
   "cell_type": "code",
   "execution_count": 5,
   "id": "3077765f-fc71-489b-8673-b68a5a4cf37a",
   "metadata": {},
   "outputs": [],
   "source": [
    "#Type your code here\n",
    "inventory = {}"
   ]
  },
  {
   "cell_type": "markdown",
   "id": "7fe87367-3a00-4f89-8584-6d25f79c31b0",
   "metadata": {},
   "source": [
    "<details> <summary>Click here for the solution</summary>\n",
    "\n",
    "```python\n",
    "\n",
    "inventory ={}\n",
    "\n",
    "```\n",
    "\n",
    "</details>\n"
   ]
  },
  {
   "cell_type": "markdown",
   "id": "f361ccf4-cf77-4788-b3a4-424a3abe2415",
   "metadata": {},
   "source": [
    "## Task-2 Store the first product details in variable\n",
    "* Product Name= Mobile phone\n",
    "* Product Quantity= 5\n",
    "* Product price= 20000\n",
    "* Product Release Year= 2020\n"
   ]
  },
  {
   "cell_type": "code",
   "execution_count": 8,
   "id": "dcd243ef-89c7-44f6-afa0-d07e5b8a3863",
   "metadata": {},
   "outputs": [],
   "source": [
    "#type your code here\n",
    "# Product 1 details\n",
    "ProductNo1 = \"Mobile phone\"\n",
    "ProductNo1_quantity = 5\n",
    "ProductNo1_price = 20000\n",
    "ProductNo1_releaseYear = 2020\n"
   ]
  },
  {
   "cell_type": "markdown",
   "id": "db6fea6c-acfd-449b-bf6c-796d9da883c5",
   "metadata": {},
   "source": [
    "<details> <summary>Click here for the solution</summary>\n",
    "\n",
    "```python\n",
    "ProductNo1 = \"Mobile Phone\"\n",
    "ProductNo1_quantity = 5\n",
    "ProductNo1_price = 20000\n",
    "ProductNo1_releaseYear= 2020\n",
    "```\n",
    "\n",
    "</details>\n"
   ]
  },
  {
   "cell_type": "markdown",
   "id": "a4308c00-fbfd-4b02-85a3-bc76643b239f",
   "metadata": {},
   "source": [
    "## Task-3 Add the details in inventory\n"
   ]
  },
  {
   "cell_type": "code",
   "execution_count": 9,
   "id": "6176ef15-cd5c-4bbd-b008-d8499e4abab4",
   "metadata": {},
   "outputs": [],
   "source": [
    "#Type your code here\n",
    "inventory[\"ProductNo1\"]= ProductNo1\n",
    "inventory[\"ProductNo1_quantity\"]= ProductNo1_quantity\n",
    "inventory[\"ProductNo1_price\"]= ProductNo1_price\n",
    "inventory[\"ProductNo1_releaseYear\"]= ProductNo1_releaseYear"
   ]
  },
  {
   "cell_type": "markdown",
   "id": "b15ec493-3564-4d5c-ac2d-af8b31a7988a",
   "metadata": {},
   "source": [
    "<details> <summary>Click here for the solution</summary>\n",
    "\n",
    "```python\n",
    "\n",
    "inventory[\"ProductNo1\"]= ProductNo1\n",
    "inventory[\"ProductNo1_quantity\"]= ProductNo1_quantity\n",
    "inventory[\"ProductNo1_price\"]= ProductNo1_price\n",
    "inventory[\"ProductNo1_releaseYear\"]=ProductNo1_releaseYear\n",
    "\n",
    "```\n",
    "\n",
    "</details>\n"
   ]
  },
  {
   "cell_type": "markdown",
   "id": "1c5c03ce-b592-4382-a527-9b97a00a7623",
   "metadata": {},
   "source": [
    "## Task-4 Store the second product details in a variable.\n",
    "* Product Name= \"Laptop\"\n",
    "* Product Quantity= 10\n",
    "* Product price = 50000\n",
    "* Product Release Year= 2023\n"
   ]
  },
  {
   "cell_type": "code",
   "execution_count": 10,
   "id": "239ae41d-ab7f-4764-a9b9-a6d870ba27ed",
   "metadata": {},
   "outputs": [],
   "source": [
    "#type your code here\n",
    "ProductNo2 = \"Laptop\"\n",
    "ProductNo2_quantity = 10\n",
    "ProductNo2_price = 50000\n",
    "ProductNo2_releaseYear = 2023"
   ]
  },
  {
   "cell_type": "markdown",
   "id": "80cad647-c499-4ac4-8edf-af973957ad80",
   "metadata": {},
   "source": [
    "<details> <summary>Click here for the solution</summary>\n",
    "\n",
    "```python\n",
    "\n",
    "ProductNo2 = \"Laptop\"\n",
    "ProductNo2_quantity = 10\n",
    "ProductNo2_price = 50000\n",
    "ProductNo2_releaseYear= 2023\n",
    "\n",
    "```\n",
    "\n",
    "</details>\n"
   ]
  },
  {
   "cell_type": "markdown",
   "id": "a5b27830-4ddb-4dab-bb4d-677564dc07f5",
   "metadata": {},
   "source": [
    "## Task-5 Add the item detail into the inventory.\n"
   ]
  },
  {
   "cell_type": "code",
   "execution_count": 11,
   "id": "091fb8a4-fe23-468f-a4cd-fcb49389ab79",
   "metadata": {},
   "outputs": [],
   "source": [
    "#type your code here\n",
    "inventory[\"ProductNo2\"]= ProductNo2\n",
    "inventory[\"ProductNo2_quantity\"]= ProductNo2_quantity\n",
    "inventory[\"ProductNo2_price\"]= ProductNo2_price\n",
    "inventory[\"ProductNo2_releaseYear\"]= ProductNo2_releaseYear"
   ]
  },
  {
   "cell_type": "markdown",
   "id": "641aa9d9-6b14-4254-a026-9b9086d98d0d",
   "metadata": {},
   "source": [
    "<details> <summary>Click here for the solution</summary>\n",
    "\n",
    "```python\n",
    "\n",
    "inventory[\"ProductNo2\"]= ProductNo2\n",
    "inventory[\"ProductNo2_quantity\"]= ProductNo2_quantity\n",
    "inventory[\"ProductNo2_price\"]= ProductNo2_price\n",
    "inventory[\"ProductNo2_releaseYear\"]=ProductNo2_releaseYear\n",
    "\n",
    "```\n",
    "\n",
    "</details>\n"
   ]
  },
  {
   "cell_type": "markdown",
   "id": "ac83fe41-3bfd-4b6c-af30-e32a8ade8766",
   "metadata": {},
   "source": [
    "## Task-6 Display the Products present in the inventory\n"
   ]
  },
  {
   "cell_type": "markdown",
   "id": "f36fad46-3ea0-4f01-b0da-d2cbfa99d083",
   "metadata": {},
   "source": [
    "Use print statement for displaying the products\n"
   ]
  },
  {
   "cell_type": "code",
   "execution_count": 13,
   "id": "8273d9cb-90ea-4a37-b3de-c8d9e5c8a290",
   "metadata": {},
   "outputs": [
    {
     "name": "stdout",
     "output_type": "stream",
     "text": [
      "{'Product1': {'Name': 'Mobile phone', 'Quantity': 5, 'Price': 20000, 'Release Year': 2020}, 'ProductNo1': 'Mobile phone', 'ProductNo1_quantity': 5, 'ProductNo1_price': 20000, 'ProductNo1_releaseYear': 2020, 'ProductNo2': 'Laptop', 'ProductNo2_quantity': 10, 'ProductNo2_price': 50000, 'ProductNo2_releaseYear': 2023}\n"
     ]
    }
   ],
   "source": [
    "#type your code here\n",
    "print(inventory)"
   ]
  },
  {
   "cell_type": "markdown",
   "id": "9da25f3e-e9cb-40a8-a2eb-82db6933ea35",
   "metadata": {},
   "source": [
    "<details> <summary>Click here for the solution</summary>\n",
    "\n",
    "```python\n",
    "\n",
    "print(inventory)\n",
    "\n",
    "```\n",
    "\n",
    "</details>\n"
   ]
  },
  {
   "cell_type": "markdown",
   "id": "0d804232-24b9-46f7-888b-279e24092ba2",
   "metadata": {},
   "source": [
    "## Task-7 Check if `ProductNo1_releaseYear` and `ProductNo2_releaseYear` is in the inventory\n"
   ]
  },
  {
   "cell_type": "code",
   "execution_count": 14,
   "id": "934869c4-fe1a-40cc-b61a-970a38d8e8bc",
   "metadata": {},
   "outputs": [
    {
     "data": {
      "text/plain": [
       "True"
      ]
     },
     "execution_count": 14,
     "metadata": {},
     "output_type": "execute_result"
    }
   ],
   "source": [
    "#Type your code here\n",
    "\"ProductNo1_releaseYear\" in inventory\n",
    "\"ProductNo2_releaseYear\" in inventory"
   ]
  },
  {
   "cell_type": "markdown",
   "id": "61d67654-50fd-4f57-b78b-51ed2db296be",
   "metadata": {},
   "source": [
    "<details> <summary>Click here for the solution</summary>\n",
    "\n",
    "```python\n",
    "\n",
    "\"ProductNo1_releaseYear\" in inventory\n",
    "\"ProductNo2_releaseYear\" in inventory\n",
    "\n",
    "```\n",
    "\n",
    "</details>\n"
   ]
  },
  {
   "cell_type": "markdown",
   "id": "55a5b3e2-9afd-42fb-b738-679aa27c89aa",
   "metadata": {},
   "source": [
    "**As in inventory `Release year` is not required, let's delete it.**\n"
   ]
  },
  {
   "cell_type": "markdown",
   "id": "b8dea389-4952-44a9-a550-506cc0dda526",
   "metadata": {},
   "source": [
    "## Task-8 Delete release year of both the products from the inventory\n"
   ]
  },
  {
   "cell_type": "code",
   "execution_count": 15,
   "id": "f1011b80-6c4a-46e3-af14-f1ab40ae1556",
   "metadata": {},
   "outputs": [],
   "source": [
    "#Type your code here\n",
    "del(inventory[\"ProductNo1_releaseYear\"])\n",
    "del(inventory[\"ProductNo2_releaseYear\"])"
   ]
  },
  {
   "cell_type": "markdown",
   "id": "1bb9404c-7b94-444e-a128-8f2e4f1ef191",
   "metadata": {},
   "source": [
    "\n",
    "<details> <summary>Click here for the solution</summary>\n",
    "\n",
    "```python\n",
    "\n",
    "del(inventory[\"ProductNo1_releaseYear\"])\n",
    "del(inventory[\"ProductNo2_releaseYear\"])\n",
    "\n",
    "```\n",
    "\n",
    "</details>\n"
   ]
  },
  {
   "cell_type": "markdown",
   "id": "5aecce34-daad-4313-b5a8-84f9c9e04fff",
   "metadata": {},
   "source": [
    "<hr>\n",
    "<h2>The last exercise!</h2>\n",
    "<p>Congratulations, you have completed your first lesson and hands-on lab in Python. \n",
    "<hr>\n"
   ]
  },
  {
   "cell_type": "markdown",
   "id": "e086ebc9-6612-4b7a-bdc4-c16439a89638",
   "metadata": {},
   "source": [
    "## Author\n",
    "\n",
    "<a href=\"https://www.linkedin.com/in/joseph-s-50398b136/?utm_medium=Exinfluencer&utm_source=Exinfluencer&utm_content=000026UJ&utm_term=10006555&utm_id=NA-SkillsNetwork-Channel-SkillsNetworkCoursesIBMDeveloperSkillsNetworkPY0101ENSkillsNetwork19487395-2021-01-01\" target=\"_blank\">Joseph Santarcangelo</a>\n",
    "\n",
    "## Other contributors\n",
    "\n",
    "<a href=\"https://www.linkedin.com/in/jiahui-mavis-zhou-a4537814a?utm_medium=Exinfluencer&utm_source=Exinfluencer&utm_content=000026UJ&utm_term=10006555&utm_id=NA-SkillsNetwork-Channel-SkillsNetworkCoursesIBMDeveloperSkillsNetworkPY0101ENSkillsNetwork19487395-2021-01-01\">Mavis Zhou</a>\n",
    "\n",
    "<!--## Change Log--!>\n",
    "\n",
    "<!--| Date (YYYY-MM-DD) | Version | Changed By    | Change Description                                                  |\n",
    "--!>\n",
    "<!--| ----------------- | ------- | ------------- | ------------------------------------------------------------------- |\n",
    "--!>\n",
    "<!--| 2023-05-11        |  2.3    | Akansha yadav | Updated lab with scenario                                           |\n",
    "--!>\n",
    "<!--|  2022-01-10        | 2.2     | Malika Singla | Removed the readme for GitShare                                     |\n",
    "--!>\n",
    "<!--| 2020-09-09        | 2.1     | Malika Singla | Updated the variable soundtrack_dict to soundtrack_dic in Questions |\n",
    "--!>\n",
    "<!--| 2020-08-26        | 2.0     | Lavanya       | Moved lab to course repo in GitLab                                  |\n",
    "--!>\n",
    "<!--|                   |         |               |                                                                     |\n",
    "--!>\n",
    "<!--|                   |         |               |                                                                     |\n",
    "--!>\n",
    "\n",
    "## <h3 align=\"center\"> © IBM Corporation 2020. All rights reserved. <h3/>\n"
   ]
  },
  {
   "cell_type": "code",
   "execution_count": null,
   "id": "54732e6d-4e3f-41d0-a91c-f76a08274956",
   "metadata": {},
   "outputs": [],
   "source": []
  }
 ],
 "metadata": {
  "kernelspec": {
   "display_name": "Python 3",
   "language": "python",
   "name": "python3"
  },
  "language_info": {
   "codemirror_mode": {
    "name": "ipython",
    "version": 3
   },
   "file_extension": ".py",
   "mimetype": "text/x-python",
   "name": "python",
   "nbconvert_exporter": "python",
   "pygments_lexer": "ipython3",
   "version": "3.13.2"
  },
  "prev_pub_hash": "6121f47d6a34b9e27e82f6ba667d7abcb33629de8dbc08d5372f8ab0aea07328"
 },
 "nbformat": 4,
 "nbformat_minor": 4
}
